{
  "cells": [
    {
      "cell_type": "code",
      "execution_count": 4,
      "metadata": {
        "colab": {
          "base_uri": "https://localhost:8080/"
        },
        "id": "qDIIN_zK2gjj",
        "outputId": "2d485124-70e4-458e-9703-5510c52092ea"
      },
      "outputs": [],
      "source": [
        "#from google.colab import drive\n",
        "import os\n",
        "import glob\n",
        "import requests\n",
        "import zipfile\n",
        "from io import BytesIO\n",
        "import requests\n",
        "\n",
        "# Definindo o caminho para o diretório de destino\n",
        "try:\n",
        "    destination_directory = r\"C:\\Users\\Thiago\\Desktop\\Thiago\\ETL - Análise De Dados da Receita\\Estabelecimentos\"\n",
        "except:\n",
        "    print('\\nERRO: Não foi possível encontrar o diretório Estabelecimentos!')\n",
        "# Criar a pasta \"ESTABELECIMENTOS\" se ela não existir dentro do diretório de destino\n",
        "try:\n",
        "    output_folder = os.path.join(destination_directory, \"ESTABELECIMENTO\")\n",
        "except:\n",
        "    print('\\nERRO: Não foi possível criar a pasta ESTABELECIMENTOS. Verifique o caminho do diretório!')\n",
        "    \n",
        "try:\n",
        "    output_simples = os.path.join(destination_directory, \"SIMPLES\")\n",
        "except:\n",
        "    print('\\nERRO: Não foi possível criar a pasta SIMPLES. Verifique o caminho do diretório!')\n",
        "try:\n",
        "    output_municipios = os.path.join(destination_directory, \"Municípios\")\n",
        "except:\n",
        "    print('\\nERRO: Não foi possível criar a pasta Municípios. Verifique o caminho do diretório!')\n",
        "    \n",
        "try:\n",
        "    output_cnaes= os.path.join(destination_directory, \"CNAES\")\n",
        "except:\n",
        "    print('\\nERRO: Não foi possível criar a pasta CNAES. Verifique o caminho do diretório!')\n",
        "\n",
        "try:\n",
        "    output_empresas = os.path.join(destination_directory, \"EMPRESAS\")\n",
        "except:\n",
        "    print('\\nERRO: Não foi possível criar a pasta EMPRESAS. Verifique o caminho do diretório!')\n",
        "\n",
        "\n",
        "os.makedirs(output_folder, exist_ok=True)\n",
        "os.makedirs(output_simples, exist_ok=True)\n",
        "os.makedirs(output_municipios, exist_ok=True)\n",
        "os.makedirs(output_cnaes, exist_ok=True)\n",
        "os.makedirs(output_empresas, exist_ok=True)"
      ]
    },
    {
      "cell_type": "markdown",
      "metadata": {
        "id": "fbW_bUR8wXQq"
      },
      "source": [
        "LIMPAR DIRETÓRIO QUE POSSUI OS ARQUIVOS EXTRAÍDOS DA RECEITA FEDERAL."
      ]
    },
    {
      "cell_type": "code",
      "execution_count": 3,
      "metadata": {
        "id": "yWb-usJQZbV5"
      },
      "outputs": [
        {
          "name": "stdout",
          "output_type": "stream",
          "text": [
            "Arquivo removido: C:\\Users\\Thiago\\Desktop\\Thiago\\ETL - Análise De Dados da Receita\\Estabelecimentos\\EMPRESAS\\K3241.K03200Y0.D40511.EMPRECSV\n"
          ]
        }
      ],
      "source": [
        "def apagar_arquivos_na_pasta(caminho_da_pasta):\n",
        "    # Construir o caminho completo usando a biblioteca os\n",
        "\n",
        "    try:\n",
        "        caminho_completo = os.path.join(caminho_da_pasta, '*')\n",
        "    except:\n",
        "        print('\\nERRO: Não foi possível localizar a pasta {}. Verifique o caminho do diretório!'.format(caminho_da_pasta))\n",
        "\n",
        "    # Usar a função glob para obter a lista de arquivos no caminho especificado\n",
        "    try:\n",
        "        lista_de_arquivos = glob.glob(caminho_completo)\n",
        "    except:\n",
        "        print('\\nERRO: Não foi possível identificar os arquivos da pasta {}'.format(caminho_completo))\n",
        "\n",
        "    # Iterar sobre a lista e remover cada arquivo\n",
        "    for arquivo in lista_de_arquivos:\n",
        "        try:\n",
        "            os.remove(arquivo)\n",
        "            print(f\"Arquivo removido: {arquivo}\")\n",
        "        except Exception as e:\n",
        "            print(f\"Erro ao remover arquivo {arquivo}: {e}\")\n",
        "\n",
        "#estabelecimentos\n",
        "apagar_arquivos_na_pasta(output_folder)\n",
        "#Municipios\n",
        "apagar_arquivos_na_pasta(output_municipios)\n",
        "#Simples.\n",
        "apagar_arquivos_na_pasta(output_simples)\n",
        "#CNAE\n",
        "apagar_arquivos_na_pasta(output_cnaes)\n",
        "#Empresas\n",
        "apagar_arquivos_na_pasta(output_empresas)"
      ]
    },
    {
      "cell_type": "markdown",
      "metadata": {},
      "source": [
        "COLETAR DADOS DOS ***MUNICÍPIOS*** PARA PEGAR INFORMAÇÕES DE MEI E NÃO MEI. - ***COM TRATAMENTO DE EXCEÇÃO***"
      ]
    },
    {
      "cell_type": "code",
      "execution_count": 4,
      "metadata": {},
      "outputs": [
        {
          "name": "stdout",
          "output_type": "stream",
          "text": [
            "\n",
            "Baixando dos Municípios . . .\n",
            "\n",
            "Download efetuado com sucesso!\n"
          ]
        }
      ],
      "source": [
        "import requests\n",
        "import zipfile\n",
        "from io import BytesIO\n",
        "\n",
        "municipios_url = 'http://200.152.38.155/CNPJ/Municipios.zip'\n",
        "\n",
        "def extrair_municipios(municipios_url):\n",
        "    try:\n",
        "        print('\\nBaixando dos Municípios . . .')\n",
        "        # Faz o download do arquivo ZIP\n",
        "        response = requests.get(municipios_url)\n",
        "        if response.status_code == 200:\n",
        "            print('\\nDownload efetuado com sucesso!')\n",
        "            zip_data = BytesIO(response.content)\n",
        "            \n",
        "            # Extrai o arquivo CSV do ZIP para a pasta \"ESTABELECIMENTOS\"\n",
        "            with zipfile.ZipFile(zip_data) as zip_ref:\n",
        "                zip_ref.extractall(output_municipios)\n",
        "        else:\n",
        "            print('ERRO: Houve uma instabilidade no download.')\n",
        "            extrair_municipios(municipios_url)\n",
        "    except:\n",
        "        print('ERRO: Não foi possível baixar SIMPLES. Verifique a conexão com LINK {}'.format(municipios_url))\n",
        "        extrair_municipios(municipios_url)\n",
        "\n",
        "# Chama a função\n",
        "extrair_municipios(municipios_url)\n"
      ]
    },
    {
      "cell_type": "markdown",
      "metadata": {},
      "source": [
        "COLETAR DADOS ***SIMPLES*** NACIONAL PARA PEGAR INFORMAÇÕES DE MEI E NÃO MEI. - ***COM TRATAMENTO DE EXCEÇÃO***"
      ]
    },
    {
      "cell_type": "code",
      "execution_count": 3,
      "metadata": {},
      "outputs": [
        {
          "name": "stdout",
          "output_type": "stream",
          "text": [
            "\n",
            "Baixando SIMPLES . . .\n",
            "\n",
            "Download efetuado com sucesso!\n"
          ]
        }
      ],
      "source": [
        "import requests\n",
        "import zipfile\n",
        "from io import BytesIO\n",
        "\n",
        "simples_url = 'http://200.152.38.155/CNPJ/Simples.zip'\n",
        "\n",
        "def extrair_simples(simples_url):\n",
        "    try:\n",
        "        print('\\nBaixando SIMPLES . . .')\n",
        "        # Faz o download do arquivo ZIP\n",
        "        response = requests.get(simples_url)\n",
        "        if response.status_code == 200:\n",
        "            print('\\nDownload efetuado com sucesso!')\n",
        "            zip_data = BytesIO(response.content)\n",
        "            \n",
        "            # Extrai o arquivo CSV do ZIP para a pasta \"ESTABELECIMENTOS\"\n",
        "            with zipfile.ZipFile(zip_data) as zip_ref:\n",
        "                zip_ref.extractall(output_simples)\n",
        "        else:\n",
        "            print('ERRO: Houve uma instabilidade no download.')\n",
        "            extrair_simples(simples_url)\n",
        "    except:\n",
        "        print('ERRO: Não foi possível baixar SIMPLES. Verifique a conexão com LINK {}'.format(simples_url))\n",
        "        extrair_simples(simples_url)\n",
        "\n",
        "# Chama a função\n",
        "extrair_simples(simples_url)\n"
      ]
    },
    {
      "cell_type": "markdown",
      "metadata": {},
      "source": [
        "COLETAR E EXTRAIR OS DADOS DE ***CNAES*** DA RECEITA FEDERAL - ***COM TRATAMENTO DE EXCEÇÃO***"
      ]
    },
    {
      "cell_type": "code",
      "execution_count": 29,
      "metadata": {},
      "outputs": [
        {
          "name": "stdout",
          "output_type": "stream",
          "text": [
            "\n",
            "Baixando CNAES . . .\n",
            "\n",
            "Download efetuado com sucesso!\n",
            "ERRO: Não foi possível baixar CNAE. Verifique a conexão com LINK http://200.152.38.155/CNPJ/Cnaes.zip\n",
            "\n",
            "Baixando CNAES . . .\n",
            "\n",
            "Download efetuado com sucesso!\n",
            "ERRO: Não foi possível baixar CNAE. Verifique a conexão com LINK http://200.152.38.155/CNPJ/Cnaes.zip\n",
            "\n",
            "Baixando CNAES . . .\n",
            "\n",
            "Download efetuado com sucesso!\n",
            "ERRO: Não foi possível baixar CNAE. Verifique a conexão com LINK http://200.152.38.155/CNPJ/Cnaes.zip\n",
            "\n",
            "Baixando CNAES . . .\n",
            "\n",
            "Download efetuado com sucesso!\n",
            "ERRO: Não foi possível baixar CNAE. Verifique a conexão com LINK http://200.152.38.155/CNPJ/Cnaes.zip\n",
            "\n",
            "Baixando CNAES . . .\n",
            "\n",
            "Download efetuado com sucesso!\n",
            "ERRO: Não foi possível baixar CNAE. Verifique a conexão com LINK http://200.152.38.155/CNPJ/Cnaes.zip\n",
            "\n",
            "Baixando CNAES . . .\n",
            "\n",
            "Download efetuado com sucesso!\n",
            "ERRO: Não foi possível baixar CNAE. Verifique a conexão com LINK http://200.152.38.155/CNPJ/Cnaes.zip\n",
            "\n",
            "Baixando CNAES . . .\n",
            "\n",
            "Download efetuado com sucesso!\n",
            "ERRO: Não foi possível baixar CNAE. Verifique a conexão com LINK http://200.152.38.155/CNPJ/Cnaes.zip\n",
            "\n",
            "Baixando CNAES . . .\n",
            "\n",
            "Download efetuado com sucesso!\n",
            "ERRO: Não foi possível baixar CNAE. Verifique a conexão com LINK http://200.152.38.155/CNPJ/Cnaes.zip\n",
            "\n",
            "Baixando CNAES . . .\n",
            "\n",
            "Download efetuado com sucesso!\n",
            "ERRO: Não foi possível baixar CNAE. Verifique a conexão com LINK http://200.152.38.155/CNPJ/Cnaes.zip\n",
            "\n",
            "Baixando CNAES . . .\n",
            "\n",
            "Download efetuado com sucesso!\n",
            "ERRO: Não foi possível baixar CNAE. Verifique a conexão com LINK http://200.152.38.155/CNPJ/Cnaes.zip\n",
            "\n",
            "Baixando CNAES . . .\n",
            "\n",
            "Download efetuado com sucesso!\n",
            "ERRO: Não foi possível baixar CNAE. Verifique a conexão com LINK http://200.152.38.155/CNPJ/Cnaes.zip\n",
            "\n",
            "Baixando CNAES . . .\n",
            "\n",
            "Download efetuado com sucesso!\n",
            "ERRO: Não foi possível baixar CNAE. Verifique a conexão com LINK http://200.152.38.155/CNPJ/Cnaes.zip\n",
            "\n",
            "Baixando CNAES . . .\n",
            "\n",
            "Download efetuado com sucesso!\n",
            "ERRO: Não foi possível baixar CNAE. Verifique a conexão com LINK http://200.152.38.155/CNPJ/Cnaes.zip\n",
            "\n",
            "Baixando CNAES . . .\n",
            "\n",
            "Download efetuado com sucesso!\n",
            "ERRO: Não foi possível baixar CNAE. Verifique a conexão com LINK http://200.152.38.155/CNPJ/Cnaes.zip\n",
            "\n",
            "Baixando CNAES . . .\n",
            "\n",
            "Download efetuado com sucesso!\n",
            "ERRO: Não foi possível baixar CNAE. Verifique a conexão com LINK http://200.152.38.155/CNPJ/Cnaes.zip\n",
            "\n",
            "Baixando CNAES . . .\n",
            "\n",
            "Download efetuado com sucesso!\n",
            "ERRO: Não foi possível baixar CNAE. Verifique a conexão com LINK http://200.152.38.155/CNPJ/Cnaes.zip\n",
            "\n",
            "Baixando CNAES . . .\n",
            "\n",
            "Download efetuado com sucesso!\n",
            "ERRO: Não foi possível baixar CNAE. Verifique a conexão com LINK http://200.152.38.155/CNPJ/Cnaes.zip\n",
            "\n",
            "Baixando CNAES . . .\n",
            "\n",
            "Download efetuado com sucesso!\n",
            "ERRO: Não foi possível baixar CNAE. Verifique a conexão com LINK http://200.152.38.155/CNPJ/Cnaes.zip\n",
            "\n",
            "Baixando CNAES . . .\n",
            "\n",
            "Download efetuado com sucesso!\n",
            "ERRO: Não foi possível baixar CNAE. Verifique a conexão com LINK http://200.152.38.155/CNPJ/Cnaes.zip\n",
            "\n",
            "Baixando CNAES . . .\n",
            "\n",
            "Download efetuado com sucesso!\n",
            "ERRO: Não foi possível baixar CNAE. Verifique a conexão com LINK http://200.152.38.155/CNPJ/Cnaes.zip\n",
            "\n",
            "Baixando CNAES . . .\n",
            "\n",
            "Download efetuado com sucesso!\n",
            "ERRO: Não foi possível baixar CNAE. Verifique a conexão com LINK http://200.152.38.155/CNPJ/Cnaes.zip\n",
            "\n",
            "Baixando CNAES . . .\n",
            "\n",
            "Download efetuado com sucesso!\n",
            "ERRO: Não foi possível baixar CNAE. Verifique a conexão com LINK http://200.152.38.155/CNPJ/Cnaes.zip\n",
            "\n",
            "Baixando CNAES . . .\n",
            "\n",
            "Download efetuado com sucesso!\n",
            "ERRO: Não foi possível baixar CNAE. Verifique a conexão com LINK http://200.152.38.155/CNPJ/Cnaes.zip\n",
            "\n",
            "Baixando CNAES . . .\n",
            "\n",
            "Download efetuado com sucesso!\n",
            "ERRO: Não foi possível baixar CNAE. Verifique a conexão com LINK http://200.152.38.155/CNPJ/Cnaes.zip\n",
            "\n",
            "Baixando CNAES . . .\n",
            "\n",
            "Download efetuado com sucesso!\n",
            "ERRO: Não foi possível baixar CNAE. Verifique a conexão com LINK http://200.152.38.155/CNPJ/Cnaes.zip\n",
            "\n",
            "Baixando CNAES . . .\n",
            "\n",
            "Download efetuado com sucesso!\n",
            "ERRO: Não foi possível baixar CNAE. Verifique a conexão com LINK http://200.152.38.155/CNPJ/Cnaes.zip\n",
            "\n",
            "Baixando CNAES . . .\n",
            "\n",
            "Download efetuado com sucesso!\n",
            "ERRO: Não foi possível baixar CNAE. Verifique a conexão com LINK http://200.152.38.155/CNPJ/Cnaes.zip\n",
            "\n",
            "Baixando CNAES . . .\n",
            "\n",
            "Download efetuado com sucesso!\n",
            "ERRO: Não foi possível baixar CNAE. Verifique a conexão com LINK http://200.152.38.155/CNPJ/Cnaes.zip\n",
            "\n",
            "Baixando CNAES . . .\n",
            "\n",
            "Download efetuado com sucesso!\n",
            "ERRO: Não foi possível baixar CNAE. Verifique a conexão com LINK http://200.152.38.155/CNPJ/Cnaes.zip\n",
            "\n",
            "Baixando CNAES . . .\n",
            "\n",
            "Download efetuado com sucesso!\n",
            "ERRO: Não foi possível baixar CNAE. Verifique a conexão com LINK http://200.152.38.155/CNPJ/Cnaes.zip\n",
            "\n",
            "Baixando CNAES . . .\n",
            "\n",
            "Download efetuado com sucesso!\n",
            "ERRO: Não foi possível baixar CNAE. Verifique a conexão com LINK http://200.152.38.155/CNPJ/Cnaes.zip\n",
            "\n",
            "Baixando CNAES . . .\n",
            "\n",
            "Download efetuado com sucesso!\n",
            "ERRO: Não foi possível baixar CNAE. Verifique a conexão com LINK http://200.152.38.155/CNPJ/Cnaes.zip\n",
            "\n",
            "Baixando CNAES . . .\n",
            "\n",
            "Download efetuado com sucesso!\n",
            "ERRO: Não foi possível baixar CNAE. Verifique a conexão com LINK http://200.152.38.155/CNPJ/Cnaes.zip\n",
            "\n",
            "Baixando CNAES . . .\n",
            "ERRO: Não foi possível baixar CNAE. Verifique a conexão com LINK http://200.152.38.155/CNPJ/Cnaes.zip\n",
            "\n",
            "Baixando CNAES . . .\n",
            "\n",
            "Download efetuado com sucesso!\n",
            "ERRO: Não foi possível baixar CNAE. Verifique a conexão com LINK http://200.152.38.155/CNPJ/Cnaes.zip\n",
            "\n",
            "Baixando CNAES . . .\n",
            "\n",
            "Download efetuado com sucesso!\n",
            "ERRO: Não foi possível baixar CNAE. Verifique a conexão com LINK http://200.152.38.155/CNPJ/Cnaes.zip\n",
            "\n",
            "Baixando CNAES . . .\n",
            "\n",
            "Download efetuado com sucesso!\n",
            "ERRO: Não foi possível baixar CNAE. Verifique a conexão com LINK http://200.152.38.155/CNPJ/Cnaes.zip\n",
            "\n",
            "Baixando CNAES . . .\n",
            "\n",
            "Download efetuado com sucesso!\n",
            "ERRO: Não foi possível baixar CNAE. Verifique a conexão com LINK http://200.152.38.155/CNPJ/Cnaes.zip\n",
            "\n",
            "Baixando CNAES . . .\n",
            "\n",
            "Download efetuado com sucesso!\n",
            "ERRO: Não foi possível baixar CNAE. Verifique a conexão com LINK http://200.152.38.155/CNPJ/Cnaes.zip\n",
            "\n",
            "Baixando CNAES . . .\n",
            "\n",
            "Download efetuado com sucesso!\n",
            "ERRO: Não foi possível baixar CNAE. Verifique a conexão com LINK http://200.152.38.155/CNPJ/Cnaes.zip\n",
            "\n",
            "Baixando CNAES . . .\n",
            "\n",
            "Download efetuado com sucesso!\n",
            "ERRO: Não foi possível baixar CNAE. Verifique a conexão com LINK http://200.152.38.155/CNPJ/Cnaes.zip\n",
            "\n",
            "Baixando CNAES . . .\n",
            "\n",
            "Download efetuado com sucesso!\n",
            "ERRO: Não foi possível baixar CNAE. Verifique a conexão com LINK http://200.152.38.155/CNPJ/Cnaes.zip\n",
            "\n",
            "Baixando CNAES . . .\n",
            "\n",
            "Download efetuado com sucesso!\n",
            "ERRO: Não foi possível baixar CNAE. Verifique a conexão com LINK http://200.152.38.155/CNPJ/Cnaes.zip\n",
            "\n",
            "Baixando CNAES . . .\n",
            "\n",
            "Download efetuado com sucesso!\n",
            "ERRO: Não foi possível baixar CNAE. Verifique a conexão com LINK http://200.152.38.155/CNPJ/Cnaes.zip\n",
            "\n",
            "Baixando CNAES . . .\n",
            "\n",
            "Download efetuado com sucesso!\n",
            "ERRO: Não foi possível baixar CNAE. Verifique a conexão com LINK http://200.152.38.155/CNPJ/Cnaes.zip\n",
            "\n",
            "Baixando CNAES . . .\n",
            "\n",
            "Download efetuado com sucesso!\n",
            "ERRO: Não foi possível baixar CNAE. Verifique a conexão com LINK http://200.152.38.155/CNPJ/Cnaes.zip\n",
            "\n",
            "Baixando CNAES . . .\n",
            "\n",
            "Download efetuado com sucesso!\n",
            "ERRO: Não foi possível baixar CNAE. Verifique a conexão com LINK http://200.152.38.155/CNPJ/Cnaes.zip\n",
            "\n",
            "Baixando CNAES . . .\n",
            "\n",
            "Download efetuado com sucesso!\n",
            "ERRO: Não foi possível baixar CNAE. Verifique a conexão com LINK http://200.152.38.155/CNPJ/Cnaes.zip\n",
            "\n",
            "Baixando CNAES . . .\n",
            "\n",
            "Download efetuado com sucesso!\n",
            "ERRO: Não foi possível baixar CNAE. Verifique a conexão com LINK http://200.152.38.155/CNPJ/Cnaes.zip\n",
            "\n",
            "Baixando CNAES . . .\n",
            "\n",
            "Download efetuado com sucesso!\n",
            "ERRO: Não foi possível baixar CNAE. Verifique a conexão com LINK http://200.152.38.155/CNPJ/Cnaes.zip\n",
            "\n",
            "Baixando CNAES . . .\n",
            "\n",
            "Download efetuado com sucesso!\n",
            "ERRO: Não foi possível baixar CNAE. Verifique a conexão com LINK http://200.152.38.155/CNPJ/Cnaes.zip\n",
            "\n",
            "Baixando CNAES . . .\n",
            "\n",
            "Download efetuado com sucesso!\n",
            "ERRO: Não foi possível baixar CNAE. Verifique a conexão com LINK http://200.152.38.155/CNPJ/Cnaes.zip\n",
            "\n",
            "Baixando CNAES . . .\n",
            "\n",
            "Download efetuado com sucesso!\n",
            "ERRO: Não foi possível baixar CNAE. Verifique a conexão com LINK http://200.152.38.155/CNPJ/Cnaes.zip\n",
            "\n",
            "Baixando CNAES . . .\n",
            "\n",
            "Download efetuado com sucesso!\n",
            "ERRO: Não foi possível baixar CNAE. Verifique a conexão com LINK http://200.152.38.155/CNPJ/Cnaes.zip\n",
            "\n",
            "Baixando CNAES . . .\n",
            "\n",
            "Download efetuado com sucesso!\n",
            "ERRO: Não foi possível baixar CNAE. Verifique a conexão com LINK http://200.152.38.155/CNPJ/Cnaes.zip\n",
            "\n",
            "Baixando CNAES . . .\n",
            "\n",
            "Download efetuado com sucesso!\n",
            "ERRO: Não foi possível baixar CNAE. Verifique a conexão com LINK http://200.152.38.155/CNPJ/Cnaes.zip\n",
            "\n",
            "Baixando CNAES . . .\n",
            "\n",
            "Download efetuado com sucesso!\n",
            "ERRO: Não foi possível baixar CNAE. Verifique a conexão com LINK http://200.152.38.155/CNPJ/Cnaes.zip\n",
            "\n",
            "Baixando CNAES . . .\n",
            "\n",
            "Download efetuado com sucesso!\n",
            "ERRO: Não foi possível baixar CNAE. Verifique a conexão com LINK http://200.152.38.155/CNPJ/Cnaes.zip\n",
            "\n",
            "Baixando CNAES . . .\n",
            "\n",
            "Download efetuado com sucesso!\n",
            "ERRO: Não foi possível baixar CNAE. Verifique a conexão com LINK http://200.152.38.155/CNPJ/Cnaes.zip\n",
            "\n",
            "Baixando CNAES . . .\n",
            "\n",
            "Download efetuado com sucesso!\n",
            "ERRO: Não foi possível baixar CNAE. Verifique a conexão com LINK http://200.152.38.155/CNPJ/Cnaes.zip\n",
            "\n",
            "Baixando CNAES . . .\n",
            "\n",
            "Download efetuado com sucesso!\n",
            "ERRO: Não foi possível baixar CNAE. Verifique a conexão com LINK http://200.152.38.155/CNPJ/Cnaes.zip\n",
            "\n",
            "Baixando CNAES . . .\n",
            "\n",
            "Download efetuado com sucesso!\n",
            "ERRO: Não foi possível baixar CNAE. Verifique a conexão com LINK http://200.152.38.155/CNPJ/Cnaes.zip\n",
            "\n",
            "Baixando CNAES . . .\n",
            "\n",
            "Download efetuado com sucesso!\n",
            "ERRO: Não foi possível baixar CNAE. Verifique a conexão com LINK http://200.152.38.155/CNPJ/Cnaes.zip\n",
            "\n",
            "Baixando CNAES . . .\n",
            "\n",
            "Download efetuado com sucesso!\n",
            "ERRO: Não foi possível baixar CNAE. Verifique a conexão com LINK http://200.152.38.155/CNPJ/Cnaes.zip\n",
            "\n",
            "Baixando CNAES . . .\n",
            "\n",
            "Download efetuado com sucesso!\n",
            "ERRO: Não foi possível baixar CNAE. Verifique a conexão com LINK http://200.152.38.155/CNPJ/Cnaes.zip\n",
            "\n",
            "Baixando CNAES . . .\n",
            "\n",
            "Download efetuado com sucesso!\n",
            "ERRO: Não foi possível baixar CNAE. Verifique a conexão com LINK http://200.152.38.155/CNPJ/Cnaes.zip\n",
            "\n",
            "Baixando CNAES . . .\n",
            "\n",
            "Download efetuado com sucesso!\n",
            "ERRO: Não foi possível baixar CNAE. Verifique a conexão com LINK http://200.152.38.155/CNPJ/Cnaes.zip\n",
            "\n",
            "Baixando CNAES . . .\n",
            "\n",
            "Download efetuado com sucesso!\n",
            "ERRO: Não foi possível baixar CNAE. Verifique a conexão com LINK http://200.152.38.155/CNPJ/Cnaes.zip\n",
            "\n",
            "Baixando CNAES . . .\n",
            "\n",
            "Download efetuado com sucesso!\n",
            "ERRO: Não foi possível baixar CNAE. Verifique a conexão com LINK http://200.152.38.155/CNPJ/Cnaes.zip\n",
            "\n",
            "Baixando CNAES . . .\n"
          ]
        }
      ],
      "source": [
        "import requests\n",
        "import zipfile\n",
        "from io import BytesIO\n",
        "\n",
        "cnaes_url = 'http://200.152.38.155/CNPJ/Cnaes.zip'\n",
        "\n",
        "def extrair_cnaes(cnaes_url):\n",
        "    try:\n",
        "        print('\\nBaixando CNAES . . .')\n",
        "        # Faz o download do arquivo ZIP\n",
        "        response = requests.get(cnaes_url)\n",
        "        if response.status_code == 200:\n",
        "            print('\\nDownload efetuado com sucesso!')\n",
        "            zip_data = BytesIO(response.content)\n",
        "            \n",
        "            # Extrai o arquivo CSV do ZIP para a pasta \"ESTABELECIMENTOS\"\n",
        "            with zipfile.ZipFile(zip_data) as zip_ref:\n",
        "                zip_ref.extractall(output_cnaes)\n",
        "        else:\n",
        "            print('ERRO: Houve uma instabilidade no download.')\n",
        "            extrair_cnaes(cnaes_url)\n",
        "    except:\n",
        "        print('ERRO: Não foi possível baixar CNAE. Verifique a conexão com LINK {}'.format(cnaes_url))\n",
        "        extrair_cnaes(cnaes_url)\n",
        "\n",
        "# Chama a função\n",
        "extrair_cnaes(cnaes_url)\n"
      ]
    },
    {
      "cell_type": "markdown",
      "metadata": {},
      "source": [
        "COLETAR E EXTRAIR OS DADOS DE ***CNPJ*** DA RECEITA FEDERAL - ***COM TRATAMENTO DE EXCEÇÃO***"
      ]
    },
    {
      "cell_type": "markdown",
      "metadata": {},
      "source": [
        "***OBS: AO EXECUTAR EXTRAÇÃO DE DADOS CNPS(EMPRESAS) - O CÓDIGO VAI RODAR ETERNAMENTE ATÉ CONSEGUIR CONCLUIR O DOWNLOAD***"
      ]
    },
    {
      "cell_type": "code",
      "execution_count": null,
      "metadata": {},
      "outputs": [],
      "source": [
        "import requests\n",
        "import zipfile\n",
        "from io import BytesIO\n",
        "\n",
        "i = 0\n",
        "zip_url = 'http://200.152.38.155/CNPJ/Empresas{}.zip'.format(i)\n",
        "def extrair_CNPJ(zip_url, i):\n",
        "    if(i<10):\n",
        "        try:\n",
        "            zip_url = 'http://200.152.38.155/CNPJ/Empresas{}.zip'.format(i)\n",
        "            print('\\nBaixando arquivo EMPRESAS nº {}'.format(i))\n",
        "            # Faz o download do arquivo ZIP\n",
        "            response = requests.get(zip_url)\n",
        "\n",
        "            if response.status_code == 200:\n",
        "                print('Download efetuado com sucesso!')\n",
        "                zip_data = BytesIO(response.content)\n",
        "                # Extrai o arquivo CSV do ZIP para a pasta \"ESTABELECIMENTOS\"\n",
        "                with zipfile.ZipFile(zip_data) as zip_ref:\n",
        "                    print('Extraindo arquivo...')\n",
        "                    zip_ref.extractall(output_empresas)\n",
        "                    print('Arquivo extraido com sucesso!')\n",
        "                    i = i+1\n",
        "                    extrair_CNPJ(zip_url, i)\n",
        "            else:\n",
        "                print('ERRO: Houve uma instabilidade no download.')\n",
        "                extrair_CNPJ(zip_url, i)\n",
        "        except:\n",
        "            print('ERRO: Não foi possível baixar EMPRESAS. Verifique a conexão com LINK {}'.format(zip_url, i))\n",
        "            extrair_CNPJ(zip_url, i)\n",
        "\n",
        "    # Chama a função\n",
        "extrair_CNPJ(zip_url, i)\n"
      ]
    },
    {
      "cell_type": "markdown",
      "metadata": {},
      "source": [
        "COLETAR E EXTRAIR OS DADOS DE ***ESTABELECIMENTOS*** DA RECEITA FEDERAL - ***COM TRATAMENTO DE EXCEÇÃO***\n",
        "\n",
        "***OBS: AO EXECUTAR EXTRAÇÃO DE DADOS ESTABELECIMENTOS - O CÓDIGO VAI RODAR ETERNAMENTE ATÉ CONSEGUIR CONCLUIR O DOWNLOAD***"
      ]
    },
    {
      "cell_type": "code",
      "execution_count": null,
      "metadata": {},
      "outputs": [],
      "source": [
        "import os\n",
        "import requests\n",
        "import zipfile\n",
        "from io import BytesIO\n",
        "\n",
        "i = 0\n",
        "zip_url = 'http://200.152.38.155/CNPJ/Estabelecimentos{}.zip'.format(i)\n",
        "\n",
        "def extrair_ESTABELECIMENTOS(zip_url, i):\n",
        "    if i < 10:\n",
        "        try:\n",
        "            zip_url = 'http://200.152.38.155/CNPJ/Estabelecimentos{}.zip'.format(i)\n",
        "            print('\\nBaixando dados de ESTABELECIMENTOS arquivo nº {}'.format(i))\n",
        "            \n",
        "            # Faz o download do arquivo ZIP\n",
        "            response = requests.get(zip_url)\n",
        "\n",
        "            if response.status_code == 200:\n",
        "                print('\\nDownload efetuado com sucesso!')\n",
        "                zip_data = BytesIO(response.content)\n",
        "                \n",
        "                # Extrai o arquivo CSV do ZIP para a pasta \"ESTABELECIMENTOS\"\n",
        "                print('Extraindo arquivo...')\n",
        "                with zipfile.ZipFile(zip_data) as zip_ref:\n",
        "                    zip_ref.extractall(output_folder)\n",
        "                    print('Arquivo extraído com sucesso!')\n",
        "                    \n",
        "                    # Incrementa o contador e chama a função recursivamente\n",
        "                    i = i + 1\n",
        "                    extrair_ESTABELECIMENTOS(zip_url, i)            \n",
        "            else:\n",
        "                print('ERRO: Houve uma instabilidade no download.')\n",
        "                extrair_ESTABELECIMENTOS(zip_url, i)\n",
        "        except Exception as e:\n",
        "            print('ERRO:', e)\n",
        "            extrair_ESTABELECIMENTOS(zip_url, i)\n",
        "    else:\n",
        "        print(\"Todos os arquivos foram baixados e extraídos com sucesso.\")\n",
        "\n",
        "# Chama a função pela primeira vez\n",
        "extrair_ESTABELECIMENTOS(zip_url, i)\n"
      ]
    },
    {
      "cell_type": "markdown",
      "metadata": {
        "id": "Q6RhkdzWwuSN"
      },
      "source": [
        "INSTALAR O PYSPARK"
      ]
    },
    {
      "cell_type": "code",
      "execution_count": 6,
      "metadata": {
        "colab": {
          "base_uri": "https://localhost:8080/"
        },
        "id": "3CY9H5jwW9-M",
        "outputId": "1c3965f1-be0c-4500-95a3-cde45842c164"
      },
      "outputs": [
        {
          "name": "stdout",
          "output_type": "stream",
          "text": [
            "Collecting pyspark\n",
            "  Downloading pyspark-3.5.1.tar.gz (317.0 MB)\n",
            "\u001b[2K     \u001b[90m━━━━━━━━━━━━━━━━━━━━━━━━━━━━━━━━━━━━━━━━\u001b[0m \u001b[32m317.0/317.0 MB\u001b[0m \u001b[31m3.8 MB/s\u001b[0m eta \u001b[36m0:00:00\u001b[0m\n",
            "\u001b[?25h  Preparing metadata (setup.py) ... \u001b[?25l\u001b[?25hdone\n",
            "Requirement already satisfied: py4j==0.10.9.7 in /usr/local/lib/python3.10/dist-packages (from pyspark) (0.10.9.7)\n",
            "Building wheels for collected packages: pyspark\n",
            "  Building wheel for pyspark (setup.py) ... \u001b[?25l\u001b[?25hdone\n",
            "  Created wheel for pyspark: filename=pyspark-3.5.1-py2.py3-none-any.whl size=317488491 sha256=e330978dde624230a2aa17e27dfc094aa424a8c1ce35245b97318f770ad26195\n",
            "  Stored in directory: /root/.cache/pip/wheels/80/1d/60/2c256ed38dddce2fdd93be545214a63e02fbd8d74fb0b7f3a6\n",
            "Successfully built pyspark\n",
            "Installing collected packages: pyspark\n",
            "Successfully installed pyspark-3.5.1\n"
          ]
        }
      ],
      "source": [
        "!pip install pyspark"
      ]
    },
    {
      "cell_type": "markdown",
      "metadata": {},
      "source": [
        "CONVERTER ARQUIVOS PARA .CSV"
      ]
    },
    {
      "cell_type": "code",
      "execution_count": 1,
      "metadata": {},
      "outputs": [
        {
          "name": "stdout",
          "output_type": "stream",
          "text": [
            "Arquivos convertidos com sucesso!\n"
          ]
        }
      ],
      "source": [
        "import os\n",
        "\n",
        "diretorio_estabelecimentos = r\"C:\\Users\\Thiago\\Desktop\\Thiago\\ETL - Análise De Dados da Receita\\Estabelecimentos\\ESTABELECIMENTO\"\n",
        "\n",
        "for nome_arquivo in os.listdir(diretorio_estabelecimentos):\n",
        "    if nome_arquivo.endswith(\".ESTABELE\"):\n",
        "        caminho_antigo = os.path.join(diretorio_estabelecimentos, nome_arquivo)\n",
        "        novo_nome = nome_arquivo.replace(\".ESTABELE\", \".CSV\")\n",
        "        caminho_novo = os.path.join(diretorio_estabelecimentos, novo_nome)\n",
        "        os.rename(caminho_antigo, caminho_novo)\n",
        "\n",
        "print('Arquivos convertidos com sucesso!')\n",
        "        \n"
      ]
    },
    {
      "cell_type": "code",
      "execution_count": 2,
      "metadata": {},
      "outputs": [
        {
          "name": "stdout",
          "output_type": "stream",
          "text": [
            "Arquivos convertidos com sucesso!\n"
          ]
        }
      ],
      "source": [
        "import os\n",
        "\n",
        "diretorio_municipios = r\"C:\\Users\\Thiago\\Desktop\\Thiago\\ETL - Análise De Dados da Receita\\Estabelecimentos\\Municípios\"\n",
        "\n",
        "for nome_arquivo in os.listdir(diretorio_municipios):\n",
        "    if nome_arquivo.endswith(\".MUNICCSV\"):\n",
        "        caminho_antigo = os.path.join(diretorio_municipios, nome_arquivo)\n",
        "        novo_nome = nome_arquivo.replace(\".MUNICCSV\", \".CSV\")\n",
        "        caminho_novo = os.path.join(diretorio_municipios, novo_nome)\n",
        "        os.rename(caminho_antigo, caminho_novo)\n",
        "        \n",
        "print('Arquivos convertidos com sucesso!')\n"
      ]
    },
    {
      "cell_type": "code",
      "execution_count": 3,
      "metadata": {},
      "outputs": [
        {
          "name": "stdout",
          "output_type": "stream",
          "text": [
            "Arquivos convertidos com sucesso!\n"
          ]
        }
      ],
      "source": [
        "import os\n",
        "\n",
        "diretorio_simples = r\"C:\\Users\\Thiago\\Desktop\\Thiago\\ETL - Análise De Dados da Receita\\Estabelecimentos\\SIMPLES\"\n",
        "\n",
        "for nome_arquivo in os.listdir(diretorio_simples):\n",
        "    if nome_arquivo.endswith(\".D40511\"):\n",
        "        caminho_antigo = os.path.join(diretorio_simples, nome_arquivo)\n",
        "        novo_nome = nome_arquivo.replace(\".D40511\", \".CSV\")\n",
        "        caminho_novo = os.path.join(diretorio_simples, novo_nome)\n",
        "        os.rename(caminho_antigo, caminho_novo)\n",
        "\n",
        "print('Arquivos convertidos com sucesso!')"
      ]
    },
    {
      "cell_type": "code",
      "execution_count": 4,
      "metadata": {},
      "outputs": [
        {
          "name": "stdout",
          "output_type": "stream",
          "text": [
            "Arquivos convertidos com sucesso!\n"
          ]
        }
      ],
      "source": [
        "import os\n",
        "\n",
        "diretorio_cnaes = r\"C:\\Users\\Thiago\\Desktop\\Thiago\\ETL - Análise De Dados da Receita\\Estabelecimentos\\CNAES\"\n",
        "\n",
        "for nome_arquivo in os.listdir(diretorio_cnaes):\n",
        "    if nome_arquivo.endswith(\".CNAECSV\"):\n",
        "        caminho_antigo = os.path.join(diretorio_cnaes, nome_arquivo)\n",
        "        novo_nome = nome_arquivo.replace(\".CNAECSV\", \".CSV\")\n",
        "        caminho_novo = os.path.join(diretorio_cnaes, novo_nome)\n",
        "        os.rename(caminho_antigo, caminho_novo)\n",
        "        \n",
        "print('Arquivos convertidos com sucesso!')"
      ]
    },
    {
      "cell_type": "markdown",
      "metadata": {
        "id": "jgxFmzM0sk3f"
      },
      "source": [
        "Iniciar o pySpark"
      ]
    },
    {
      "cell_type": "code",
      "execution_count": 5,
      "metadata": {
        "id": "I-nOjybJXUMl"
      },
      "outputs": [],
      "source": [
        "from pyspark.sql import SparkSession"
      ]
    },
    {
      "cell_type": "code",
      "execution_count": 6,
      "metadata": {
        "id": "-_54CbFSO-BX"
      },
      "outputs": [],
      "source": [
        "from pyspark.sql.functions import col, concat, lit, when, to_date, date_format"
      ]
    },
    {
      "cell_type": "code",
      "execution_count": 7,
      "metadata": {
        "id": "Gilg_3h7O-Du"
      },
      "outputs": [],
      "source": [
        "import os\n",
        "from pyspark.sql import SparkSession\n",
        "# Configurar variáveis de ambiente no Windows\n",
        "os.environ['JAVA_HOME'] = 'C:\\\\Program Files\\\\Java'  # Substitua pelo caminho para o seu JDK\n",
        "os.environ['HADOOP_HOME'] = 'C:\\\\hadoop'\n",
        "spark = SparkSession.builder.appName(\"cnpj\").master('local[*]').getOrCreate()\n",
        "\n",
        "\n",
        "\n",
        "\n"
      ]
    },
    {
      "cell_type": "code",
      "execution_count": 10,
      "metadata": {
        "id": "SnxgOwmVO-F3"
      },
      "outputs": [
        {
          "name": "stdout",
          "output_type": "stream",
          "text": [
            "Arquivos lidos com sucesso!\n"
          ]
        }
      ],
      "source": [
        "#Ler o CSV\n",
        "from pyspark.sql import SparkSession\n",
        "data0 = spark.read.csv(r\"C:\\Users\\Thiago\\Desktop\\Thiago\\ETL - Análise De Dados da Receita\\Estabelecimentos\\ESTABELECIMENTO\\K3241.K03200Y0.D40511.CSV\", header=False, sep=\";\", encoding='latin1')\n",
        "data1 = spark.read.csv(r\"C:\\Users\\Thiago\\Desktop\\Thiago\\ETL - Análise De Dados da Receita\\Estabelecimentos\\ESTABELECIMENTO\\K3241.K03200Y1.D40511.CSV\", header=False, sep=\";\", encoding='latin1')\n",
        "data2 = spark.read.csv(r\"C:\\Users\\Thiago\\Desktop\\Thiago\\ETL - Análise De Dados da Receita\\Estabelecimentos\\ESTABELECIMENTO\\K3241.K03200Y2.D40511.CSV\", header=False, sep=\";\", encoding='latin1')\n",
        "data3 = spark.read.csv(r\"C:\\Users\\Thiago\\Desktop\\Thiago\\ETL - Análise De Dados da Receita\\Estabelecimentos\\ESTABELECIMENTO\\K3241.K03200Y3.D40511.CSV\", header=False, sep=\";\", encoding='latin1')\n",
        "data4 = spark.read.csv(r\"C:\\Users\\Thiago\\Desktop\\Thiago\\ETL - Análise De Dados da Receita\\Estabelecimentos\\ESTABELECIMENTO\\K3241.K03200Y4.D40511.CSV\", header=False, sep=\";\", encoding='latin1')\n",
        "data5 = spark.read.csv(r\"C:\\Users\\Thiago\\Desktop\\Thiago\\ETL - Análise De Dados da Receita\\Estabelecimentos\\ESTABELECIMENTO\\K3241.K03200Y5.D40511.CSV\", header=False, sep=\";\", encoding='latin1')\n",
        "data6 = spark.read.csv(r\"C:\\Users\\Thiago\\Desktop\\Thiago\\ETL - Análise De Dados da Receita\\Estabelecimentos\\ESTABELECIMENTO\\K3241.K03200Y6.D40511.CSV\", header=False, sep=\";\", encoding='latin1')\n",
        "data7 = spark.read.csv(r\"C:\\Users\\Thiago\\Desktop\\Thiago\\ETL - Análise De Dados da Receita\\Estabelecimentos\\ESTABELECIMENTO\\K3241.K03200Y7.D40511.CSV\", header=False, sep=\";\", encoding='latin1')\n",
        "data8 = spark.read.csv(r\"C:\\Users\\Thiago\\Desktop\\Thiago\\ETL - Análise De Dados da Receita\\Estabelecimentos\\ESTABELECIMENTO\\K3241.K03200Y8.D40511.CSV\", header=False, sep=\";\", encoding='latin1')\n",
        "data9 = spark.read.csv(r\"C:\\Users\\Thiago\\Desktop\\Thiago\\ETL - Análise De Dados da Receita\\Estabelecimentos\\ESTABELECIMENTO\\K3241.K03200Y9.D40511.CSV\", header=False, sep=\";\", encoding='latin1')\n",
        "print('Arquivos de ESTABELECIMENTO no formato .CSV lidos com sucesso!')"
      ]
    },
    {
      "cell_type": "code",
      "execution_count": 13,
      "metadata": {
        "id": "qFC6kgluO-Ka"
      },
      "outputs": [
        {
          "name": "stdout",
          "output_type": "stream",
          "text": [
            "Realizando a junção das bases convertidas de ESTABELECIMENTOS\n",
            "Bases ESTABELECIMENTOS unidas com sucesso!\n"
          ]
        }
      ],
      "source": [
        "print('Realizando a junção das bases convertidas de ESTABELECIMENTOS')\n",
        "data = data0.union(data1).union(data2).union(data3).union(data4).union(data5).union(data6).union(data7).union(data8).union(data9)\n",
        "print('Bases ESTABELECIMENTOS unidas com sucesso!')"
      ]
    },
    {
      "cell_type": "code",
      "execution_count": 14,
      "metadata": {
        "id": "6jvuvVz6O-IS"
      },
      "outputs": [
        {
          "name": "stdout",
          "output_type": "stream",
          "text": [
            "Arquivos de CNAES no formato .CSV lidos com sucesso!\n",
            "Arquivos de MUNICIPIOS no formato .CSV lidos com sucesso!\n",
            "Arquivos de SIMPLES no formato .CSV lidos com sucesso!\n"
          ]
        }
      ],
      "source": [
        "xcnae = spark.read.csv(r\"C:\\Users\\Thiago\\Desktop\\Thiago\\ETL - Análise De Dados da Receita\\Estabelecimentos\\CNAES\\F.K03200$Z.D40511.csv\", header=False,  sep=\";\",encoding= 'latin1')\n",
        "print('Arquivos de CNAES no formato .CSV lidos com sucesso!')\n",
        "xcidades = spark.read.csv(r\"C:\\Users\\Thiago\\Desktop\\Thiago\\ETL - Análise De Dados da Receita\\Estabelecimentos\\Municípios\\F.K03200$Z.D40511.csv\", header=False,  sep=\";\",encoding= 'latin1')\n",
        "print('Arquivos de MUNICIPIOS no formato .CSV lidos com sucesso!')\n",
        "simples = spark.read.csv(r\"C:\\Users\\Thiago\\Desktop\\Thiago\\ETL - Análise De Dados da Receita\\Estabelecimentos\\SIMPLES\\F.K03200$W.SIMPLES.CSV.csv\", header=False,  sep=\";\",encoding= 'latin1')\n",
        "print('Arquivos de SIMPLES no formato .CSV lidos com sucesso!')"
      ]
    },
    {
      "cell_type": "code",
      "execution_count": 15,
      "metadata": {
        "id": "ceDo1R4xnXcP"
      },
      "outputs": [],
      "source": [
        "simples = simples.drop(\"_c1\", \"_c2\", \"_c3\", \"_c5\", \"_c6\")\n",
        "simples = simples.withColumnsRenamed({\"_c4\":\"MEI\"})\n",
        "simples = simples.withColumnsRenamed({\"_c0\":\"X\"})"
      ]
    },
    {
      "cell_type": "code",
      "execution_count": 16,
      "metadata": {
        "id": "9bsg9VGInXZv"
      },
      "outputs": [],
      "source": [
        "# Realize a junção dos DataFrames utilizando a coluna '_c0' como chave\n",
        "data = data.join(simples, data._c0 == simples.X, 'inner')"
      ]
    },
    {
      "cell_type": "code",
      "execution_count": 17,
      "metadata": {
        "id": "_iV28p0Bon-H"
      },
      "outputs": [],
      "source": [
        "data = data.drop(\"X\")"
      ]
    },
    {
      "cell_type": "code",
      "execution_count": 18,
      "metadata": {
        "id": "0btw_mSjooAg"
      },
      "outputs": [],
      "source": [
        "data = data.na.fill('')"
      ]
    },
    {
      "cell_type": "code",
      "execution_count": 19,
      "metadata": {
        "id": "Ut19YIEtooEx"
      },
      "outputs": [],
      "source": [
        "data = data.withColumnRenamed('_c4', 'NOME_FANTASIA')\n",
        "data = data.withColumnRenamed('_c18', 'CEP')\n",
        "data = data.withColumnRenamed('_c17', 'BAIRRO')\n",
        "data = data.withColumnRenamed('_c20', 'CIDADE')\n",
        "data = data.withColumnRenamed('_c19', 'UF')\n",
        "data = data.withColumnRenamed('_c27', 'EMAIL')\n",
        "data = data.withColumnRenamed('_c11', 'CNAE_PRINCIPAL')\n",
        "data = data.withColumnRenamed('_c5', 'SITUACAO_CADASTRAL')\n",
        "data = data.withColumnRenamed('_c10', 'DATA_INICIO_ATIVIDADE')\n",
        "data = data.withColumnRenamed('_c6', 'DATA_SITUACAO_CADASTRAL')"
      ]
    },
    {
      "cell_type": "code",
      "execution_count": 20,
      "metadata": {
        "id": "eOWpSZixooGu"
      },
      "outputs": [],
      "source": [
        "# Criando novas colunas com os mesmos dados das colunas originais\n",
        "data = data.withColumn('Street_Number', col('_c15'))\n",
        "data = data.withColumn('Street_Name', col('_c14'))\n",
        "data = data.withColumn('Apartment', col('_c13'))"
      ]
    },
    {
      "cell_type": "code",
      "execution_count": 21,
      "metadata": {
        "id": "xPSAaMd5ooJv"
      },
      "outputs": [],
      "source": [
        "data = data.withColumn('SITUACAO_CADASTRAL', when(col('SITUACAO_CADASTRAL') == 1, 'NULA')\n",
        "                                        .when(col('SITUACAO_CADASTRAL') == 2, 'ATIVA')\n",
        "                                        .when(col('SITUACAO_CADASTRAL') == 3, 'SUSPENSA')\n",
        "                                        .when(col('SITUACAO_CADASTRAL') == 4, 'INAPTA')\n",
        "                                        .when(col('SITUACAO_CADASTRAL') == 8, 'BAIXADA')\n",
        "                                        .otherwise(col('SITUACAO_CADASTRAL')))"
      ]
    },
    {
      "cell_type": "code",
      "execution_count": 22,
      "metadata": {
        "id": "ogXNSPqAooMP"
      },
      "outputs": [],
      "source": [
        "data = data.withColumn('DATA_INICIO_ATIVIDADE', to_date(col('DATA_INICIO_ATIVIDADE'), 'yyyyMMdd'))\n",
        "data = data.withColumn('DATA_INICIO_ATIVIDADE', date_format(col('DATA_INICIO_ATIVIDADE'), 'dd-MM-yyyy'))\n",
        "\n",
        "data = data.withColumn('DATA_SITUACAO_CADASTRAL', to_date(col('DATA_SITUACAO_CADASTRAL'), 'yyyyMMdd'))\n",
        "data = data.withColumn('DATA_SITUACAO_CADASTRAL', date_format(col('DATA_SITUACAO_CADASTRAL'), 'dd-MM-yyyy'))"
      ]
    },
    {
      "cell_type": "code",
      "execution_count": 23,
      "metadata": {
        "id": "W6iiNL4dO-Mf"
      },
      "outputs": [],
      "source": [
        "x = data.withColumn('CNPJ', concat(col('_c0'), col('_c1'), col('_c2')))\n",
        "x = x.withColumn('TELEFONE', concat(col('_c21'), col('_c22')))\n",
        "x = x.withColumn('_c14', concat(lit(' '), col('_c14'), lit(' ')))\n",
        "x = x.withColumn('_c16', concat(lit(' '), col('_c16')))\n",
        "x = x.withColumn('ENDERECO', concat(col('_c13'), col('_c14'), col('_c15'), col('_c16')))"
      ]
    },
    {
      "cell_type": "code",
      "execution_count": 24,
      "metadata": {
        "id": "0N5tCnwPo7q2"
      },
      "outputs": [],
      "source": [
        "x = x.withColumn(\"CNAE_DESCRICAO\", col(\"CNAE_PRINCIPAL\"))"
      ]
    },
    {
      "cell_type": "code",
      "execution_count": 25,
      "metadata": {
        "id": "Scz5PI3Go7tQ"
      },
      "outputs": [],
      "source": [
        "x = x.join(xcnae, x[\"CNAE_DESCRICAO\"] == xcnae[\"_c0\"], \"left_outer\").withColumn(\"CNAE_DESCRICAO\", xcnae[\"_c1\"])"
      ]
    },
    {
      "cell_type": "code",
      "execution_count": 26,
      "metadata": {
        "id": "RIJIERnKo7vf"
      },
      "outputs": [],
      "source": [
        "x = x.join(xcidades, x[\"CIDADE\"] == xcidades[\"_c0\"], \"left_outer\").withColumn(\"CIDADE\", xcidades[\"_c1\"])"
      ]
    },
    {
      "cell_type": "code",
      "execution_count": 27,
      "metadata": {
        "id": "krESZE35o7xl"
      },
      "outputs": [],
      "source": [
        "x = x.withColumn(\"RAZAO_SOCIAL\", lit(\" \"))"
      ]
    },
    {
      "cell_type": "code",
      "execution_count": 28,
      "metadata": {
        "id": "_64g-nvPpFgf"
      },
      "outputs": [],
      "source": [
        "y = x.select('CNPJ', 'RAZAO_SOCIAL', 'NOME_FANTASIA','CEP', 'ENDERECO', 'BAIRRO', 'CIDADE', 'UF', 'TELEFONE', 'EMAIL', 'CNAE_PRINCIPAL', 'CNAE_DESCRICAO', 'SITUACAO_CADASTRAL', 'DATA_INICIO_ATIVIDADE', 'DATA_SITUACAO_CADASTRAL', 'MEI')"
      ]
    },
    {
      "cell_type": "code",
      "execution_count": 22,
      "metadata": {
        "colab": {
          "base_uri": "https://localhost:8080/"
        },
        "id": "xWY6tMaPpFi3",
        "outputId": "226ac0fa-f1f1-4d61-b11d-c9a7a2c766f1"
      },
      "outputs": [
        {
          "name": "stdout",
          "output_type": "stream",
          "text": [
            "+--------------+------------+--------------------+--------+--------------------+-------------------+--------------------+---+----------+--------------------+--------------+--------------------+------------------+---------------------+-----------------------+---+\n",
            "|          CNPJ|RAZAO_SOCIAL|       NOME_FANTASIA|     CEP|            ENDERECO|             BAIRRO|              CIDADE| UF|  TELEFONE|               EMAIL|CNAE_PRINCIPAL|      CNAE_DESCRICAO|SITUACAO_CADASTRAL|DATA_INICIO_ATIVIDADE|DATA_SITUACAO_CADASTRAL|MEI|\n",
            "+--------------+------------+--------------------+--------+--------------------+-------------------+--------------------+---+----------+--------------------+--------------+--------------------+------------------+---------------------+-----------------------+---+\n",
            "|00002640000130|            |                    |13320370|RUA JOAQUIM NABUC...|             CENTRO|               SALTO| SP|          |                    |       5611203|Lanchonetes, casa...|           BAIXADA|           13-05-1994|             20-01-2014|  N|\n",
            "|00003490000180|            |                    |12210000|     RUA VILACA 236 |             CENTRO| SAO JOSE DOS CAMPOS| SP|          |                    |       4729699|Comércio varejist...|            INAPTA|           12-05-1994|             12-01-2021|  N|\n",
            "|00004753000175|            |ESPACO LAGO ESMER...|13313530|AVENIDA BOM RETIR...|          PROGRESSO|                 ITU| SP|1123319531|HENRIQUEALE51@HOT...|       8230001|Serviços de organ...|             ATIVA|           16-05-1994|             22-10-2005|  N|\n",
            "|00005391000137|            |                    |14403462|AVENIDA MAJOR NIC...|    VILA SANTA CRUZ|              FRANCA| SP|1637131600|ABERTURA@ESCRITOR...|       4771701|Comércio varejist...|            INAPTA|           17-05-1994|             23-03-2021|  N|\n",
            "|00006091000172|            |SERRALHERIA AMAZONIA|07130000|AVENIDA BRIGADEIR...|             COCAIA|           GUARULHOS| SP|1168097943|   ajcont@uol.com.br|       4744005|Comércio varejist...|            INAPTA|           20-05-1994|             26-03-2021|  N|\n",
            "|00006280000145|            |                    |01307000|RUA FREI CANECA 328 |         CONSOLACAO|           SAO PAULO| SP|1122735054|legal@jmscontabil...|       5590603|Pensões (alojamento)|           BAIXADA|           19-05-1994|             19-12-2022|  N|\n",
            "|00006751000115|            |                    |14802285|AVENIDA PROFESSOR...|VILA JOSE BONIFACIO|          ARARAQUARA| SP|1632144947| JMCABRINI@IG.COM.BR|       7020400|Atividades de con...|            INAPTA|           20-05-1994|             15-04-2021|  N|\n",
            "|00008904000163|            |                    |72920000|AVENIDA VALE DO S...|             CENTRO|            ALEXANIA| GO|          |                    |       4754701|Comércio varejist...|           BAIXADA|           24-11-1981|             28-01-2016|  N|\n",
            "|00009612000145|            |                    |14409117|RUA IRMAO BASILIO...|        VILA TOTOLI|              FRANCA| SP|          |                    |       2541100|Fabricação de art...|            INAPTA|           26-05-1994|             21-12-2018|  N|\n",
            "|00010244000155|            |  BRUDICAS PRESENTES|02471010|RUA EMB DECIO DE ...|       VILA BASILEA|           SAO PAULO| SP|          |                    |       4761003|Comércio varejist...|           BAIXADA|           26-05-1994|             13-04-2012|  N|\n",
            "|00010449000130|            |                    |18120000|RUA JOSE MIGUEL P...|   RESIDENCIAL PARQ|           MAIRINQUE| SP|1147083692|contabil-comodo@u...|       4742300|Comércio varejist...|            INAPTA|           27-05-1994|             19-04-2021|  N|\n",
            "|00010952000196|            |   SIDNEY AUTO PECAS|06321001|ESTRADA CABREUVA ...|     JARDIM JUSSARA|         CARAPICUIBA| SP|          |                    |       4530703|Comércio a varejo...|             ATIVA|           30-05-1994|             03-11-2005|  N|\n",
            "|00011694000162|            |AUTO MECANICA PATICO|14702018|RUA PRESIDENTE VA...|MAJ CICERO CARVALHO|           BEBEDOURO| SP|          |                    |       4530703|Comércio a varejo...|             ATIVA|           30-05-1994|             23-01-2004|  N|\n",
            "|00012730000102|            |RESTAURANTE DOS P...|17201970|RODOVIA LEONIDAS ...|         ZONA RURAL|                 JAU| SP|1436661192|escribocainense@b...|       5611203|Lanchonetes, casa...|           BAIXADA|           01-06-1994|             23-05-2023|  N|\n",
            "|00012928000196|            |                    |13474510|AVENIDA AFONSO SC...|  ANTONIO ZANAGA II|           AMERICANA| SP|4133841404|VRCONTABIL@HOTMAI...|       5611204|Bares e outros es...|            INAPTA|           07-06-1994|             09-06-2022|  N|\n",
            "|00014055000150|            |                    |14875525|RUA DOUTOR ABEL S...|   PARQUE JAQUELINE|         JABOTICABAL| SP|1657043165|FERNANDO.BUFFA@GM...|       4649499|Comércio atacadis...|             ATIVA|           09-06-1994|             27-08-2005|  N|\n",
            "|00014195000129|            |     BAR DOIS IRMAOS|17560000|RUA RUBENS PUPPO ...|             CENTRO|           VERA CRUZ| SP|          |                    |       5611201|Restaurantes e si...|            INAPTA|           08-06-1994|             03-02-2021|  N|\n",
            "|00018847000101|            |    QUIOSQUE DA MANA|11680000|RUA JOAO VITORIO 10 |            ENSEADA|             UBATUBA| SP|1238324795|ar.contabil@uol.c...|       5611204|Bares e outros es...|             ATIVA|           17-06-1994|             03-11-2005|  N|\n",
            "|00019222000156|            |                    |13230001|RUA MAURICIO GRO ...|       JD CORCOVADO|CAMPO LIMPO PAULISTA| SP|          |                    |       4712100|Comércio varejist...|             ATIVA|           16-06-1994|             03-11-2005|  S|\n",
            "|00020279000175|            |  OPTICA SANTA LUZIA|13970270|RUA XV DE NOVEMBR...|             CENTRO|             ITAPIRA| SP|          |                    |       4774100|Comércio varejist...|           BAIXADA|           21-06-1994|             18-05-2021|  N|\n",
            "+--------------+------------+--------------------+--------+--------------------+-------------------+--------------------+---+----------+--------------------+--------------+--------------------+------------------+---------------------+-----------------------+---+\n",
            "only showing top 20 rows\n",
            "\n"
          ]
        }
      ],
      "source": [
        "y.show()"
      ]
    },
    {
      "cell_type": "code",
      "execution_count": null,
      "metadata": {
        "id": "N58cMYwlu3KZ"
      },
      "outputs": [],
      "source": [
        "y.coalesce(1).write.format(\"csv\").option(\"header\", \"true\").option(\"delimiter\", \";\").option(\"encoding\", \"UTF-8\").mode(\"overwrite\").save(r\"C:\\Users\\Abrasel\\Documents\\Thiago\\ETL - Análise De Dados da Receita\\cnpj01\")"
      ]
    },
    {
      "cell_type": "code",
      "execution_count": null,
      "metadata": {
        "id": "CX5uxJedpFlM"
      },
      "outputs": [],
      "source": []
    },
    {
      "cell_type": "code",
      "execution_count": null,
      "metadata": {
        "id": "mWZ3YpZ3pFnR"
      },
      "outputs": [],
      "source": []
    },
    {
      "cell_type": "code",
      "execution_count": null,
      "metadata": {
        "id": "xuPmbhJvpFpV"
      },
      "outputs": [],
      "source": []
    },
    {
      "cell_type": "code",
      "execution_count": null,
      "metadata": {
        "id": "AhNTNsNGo73z"
      },
      "outputs": [],
      "source": []
    },
    {
      "cell_type": "code",
      "execution_count": null,
      "metadata": {
        "id": "xS_5CPy9o76u"
      },
      "outputs": [],
      "source": []
    }
  ],
  "metadata": {
    "colab": {
      "provenance": []
    },
    "kernelspec": {
      "display_name": "Python 3 (ipykernel)",
      "language": "python",
      "name": "python3"
    },
    "language_info": {
      "codemirror_mode": {
        "name": "ipython",
        "version": 3
      },
      "file_extension": ".py",
      "mimetype": "text/x-python",
      "name": "python",
      "nbconvert_exporter": "python",
      "pygments_lexer": "ipython3",
      "version": "3.12.3"
    }
  },
  "nbformat": 4,
  "nbformat_minor": 0
}
